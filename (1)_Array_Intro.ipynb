{
 "cells": [
  {
   "cell_type": "markdown",
   "metadata": {},
   "source": [
    "# Array:"
   ]
  },
  {
   "cell_type": "markdown",
   "metadata": {},
   "source": [
    "numpy.array, numpy.array.shape, numpy.reshape, numpy.concatenate"
   ]
  },
  {
   "cell_type": "code",
   "execution_count": 62,
   "metadata": {},
   "outputs": [],
   "source": [
    "import numpy as np"
   ]
  },
  {
   "cell_type": "code",
   "execution_count": 63,
   "metadata": {},
   "outputs": [
    {
     "data": {
      "text/plain": [
       "list"
      ]
     },
     "execution_count": 63,
     "metadata": {},
     "output_type": "execute_result"
    }
   ],
   "source": [
    "X = [2,4,6,8,\"cow\",1.3]\n",
    "type(X)"
   ]
  },
  {
   "cell_type": "code",
   "execution_count": 64,
   "metadata": {},
   "outputs": [
    {
     "data": {
      "text/plain": [
       "'cow'"
      ]
     },
     "execution_count": 64,
     "metadata": {},
     "output_type": "execute_result"
    }
   ],
   "source": [
    "X[4]"
   ]
  },
  {
   "cell_type": "code",
   "execution_count": 65,
   "metadata": {},
   "outputs": [
    {
     "data": {
      "text/plain": [
       "[2, 4, 6, 8, 'cow', 1.3, 2, 4, 6, 8, 'cow', 1.3]"
      ]
     },
     "execution_count": 65,
     "metadata": {},
     "output_type": "execute_result"
    }
   ],
   "source": [
    "X + X"
   ]
  },
  {
   "cell_type": "code",
   "execution_count": 66,
   "metadata": {},
   "outputs": [
    {
     "data": {
      "text/plain": [
       "array([10, 12, 14, 16])"
      ]
     },
     "execution_count": 66,
     "metadata": {},
     "output_type": "execute_result"
    }
   ],
   "source": [
    "M = np.array([5,6,7,8])\n",
    "M\n",
    "type(M)\n",
    "M + M"
   ]
  },
  {
   "cell_type": "code",
   "execution_count": 67,
   "metadata": {},
   "outputs": [
    {
     "data": {
      "text/plain": [
       "array([[1, 4, 6],\n",
       "       [3, 4, 8],\n",
       "       [5, 7, 9]])"
      ]
     },
     "execution_count": 67,
     "metadata": {},
     "output_type": "execute_result"
    }
   ],
   "source": [
    "M = np.array([[1,4,6],[3,4,8],[5,7,9,]])\n",
    "M"
   ]
  },
  {
   "cell_type": "code",
   "execution_count": 68,
   "metadata": {},
   "outputs": [
    {
     "data": {
      "text/plain": [
       "array([[0, 0, 0],\n",
       "       [0, 0, 0],\n",
       "       [0, 0, 0]])"
      ]
     },
     "execution_count": 68,
     "metadata": {},
     "output_type": "execute_result"
    }
   ],
   "source": [
    "N = np.array([[0,0,0],[0,0,0],[0,0,0]])\n",
    "N"
   ]
  },
  {
   "cell_type": "code",
   "execution_count": 69,
   "metadata": {},
   "outputs": [
    {
     "data": {
      "text/plain": [
       "array([[0., 0., 0.],\n",
       "       [0., 0., 0.],\n",
       "       [0., 0., 0.]])"
      ]
     },
     "execution_count": 69,
     "metadata": {},
     "output_type": "execute_result"
    }
   ],
   "source": [
    "N = np.zeros([3,3])\n",
    "N"
   ]
  },
  {
   "cell_type": "code",
   "execution_count": 70,
   "metadata": {},
   "outputs": [
    {
     "data": {
      "text/plain": [
       "array([[1., 1., 1., 1., 1., 1., 1.],\n",
       "       [1., 1., 1., 1., 1., 1., 1.],\n",
       "       [1., 1., 1., 1., 1., 1., 1.],\n",
       "       [1., 1., 1., 1., 1., 1., 1.],\n",
       "       [1., 1., 1., 1., 1., 1., 1.],\n",
       "       [1., 1., 1., 1., 1., 1., 1.]])"
      ]
     },
     "execution_count": 70,
     "metadata": {},
     "output_type": "execute_result"
    }
   ],
   "source": [
    "I = np.ones([6,7])\n",
    "I"
   ]
  },
  {
   "cell_type": "code",
   "execution_count": 71,
   "metadata": {},
   "outputs": [
    {
     "data": {
      "text/plain": [
       "array([[1., 0., 0., 0., 0., 0.],\n",
       "       [0., 1., 0., 0., 0., 0.],\n",
       "       [0., 0., 1., 0., 0., 0.],\n",
       "       [0., 0., 0., 1., 0., 0.],\n",
       "       [0., 0., 0., 0., 1., 0.],\n",
       "       [0., 0., 0., 0., 0., 1.]])"
      ]
     },
     "execution_count": 71,
     "metadata": {},
     "output_type": "execute_result"
    }
   ],
   "source": [
    "np.eye(6)"
   ]
  },
  {
   "cell_type": "code",
   "execution_count": 72,
   "metadata": {},
   "outputs": [
    {
     "data": {
      "text/plain": [
       "array([[0.12885811, 0.9686766 , 0.73083873, 0.03236617, 0.89023044,\n",
       "        0.8280482 ],\n",
       "       [0.88916141, 0.57023584, 0.5109344 , 0.1990673 , 0.0544117 ,\n",
       "        0.81540568],\n",
       "       [0.7919965 , 0.01726947, 0.67668047, 0.09483813, 0.568102  ,\n",
       "        0.18615714],\n",
       "       [0.52497079, 0.74262734, 0.7280398 , 0.29420827, 0.48982411,\n",
       "        0.62087907],\n",
       "       [0.15631073, 0.19765202, 0.30149089, 0.56593336, 0.1167847 ,\n",
       "        0.52314868],\n",
       "       [0.38444319, 0.59553689, 0.92532156, 0.0834052 , 0.32327319,\n",
       "        0.34228983]])"
      ]
     },
     "execution_count": 72,
     "metadata": {},
     "output_type": "execute_result"
    }
   ],
   "source": [
    "X = np.random.rand(6,6)\n",
    "X"
   ]
  },
  {
   "cell_type": "code",
   "execution_count": 73,
   "metadata": {},
   "outputs": [
    {
     "data": {
      "text/plain": [
       "array([[ 1.82280173, -0.29931093, -1.17330404,  1.0870634 ,  0.21559986,\n",
       "        -0.09101168],\n",
       "       [-0.71017007,  1.22912355, -0.76721376, -0.50889178, -0.56907448,\n",
       "         0.02565472],\n",
       "       [ 2.48280833,  0.24063404, -0.75698221, -0.43035885, -0.56772692,\n",
       "         1.11414412],\n",
       "       [-0.92372966, -0.98149425,  0.71993739, -0.52702399,  1.29017086,\n",
       "        -1.33773839],\n",
       "       [ 0.1426197 ,  1.89196726,  1.58778118,  1.19411932,  0.2152503 ,\n",
       "        -1.52795095],\n",
       "       [ 0.53168853, -0.87954578, -0.78150036, -0.70936197, -0.34470885,\n",
       "         0.62246218]])"
      ]
     },
     "execution_count": 73,
     "metadata": {},
     "output_type": "execute_result"
    }
   ],
   "source": [
    "X = np.random.randn(6,6)\n",
    "X"
   ]
  },
  {
   "cell_type": "code",
   "execution_count": 74,
   "metadata": {},
   "outputs": [
    {
     "data": {
      "text/plain": [
       "array([[1, 2, 4],\n",
       "       [3, 6, 8],\n",
       "       [4, 8, 9]])"
      ]
     },
     "execution_count": 74,
     "metadata": {},
     "output_type": "execute_result"
    }
   ],
   "source": [
    "X = np.array([[1,2,4],[3,6,8],[4,8,9]])\n",
    "X"
   ]
  },
  {
   "cell_type": "code",
   "execution_count": 75,
   "metadata": {},
   "outputs": [
    {
     "data": {
      "text/plain": [
       "(8, array([4, 8, 9]), array([4, 8, 9]), 9)"
      ]
     },
     "execution_count": 75,
     "metadata": {},
     "output_type": "execute_result"
    }
   ],
   "source": [
    "X[1,2], X[:,2], X[2,:], X[2,2]"
   ]
  },
  {
   "cell_type": "code",
   "execution_count": 76,
   "metadata": {},
   "outputs": [
    {
     "data": {
      "text/plain": [
       "8"
      ]
     },
     "execution_count": 76,
     "metadata": {},
     "output_type": "execute_result"
    }
   ],
   "source": [
    "LL = [[1,2,4],[3,6,8],[4,8,9]]\n",
    "LL[1][2]"
   ]
  },
  {
   "cell_type": "markdown",
   "metadata": {},
   "source": [
    "# Array Indexing"
   ]
  },
  {
   "cell_type": "code",
   "execution_count": 77,
   "metadata": {},
   "outputs": [
    {
     "data": {
      "text/plain": [
       "array([[0.76988979, 0.00182316, 0.99146756, 0.79341273, 0.47259954,\n",
       "        0.10729819],\n",
       "       [0.24449592, 0.31759647, 0.29222109, 0.08184176, 0.84805796,\n",
       "        0.33201808],\n",
       "       [0.65438657, 0.11200693, 0.2637765 , 0.53724638, 0.31968629,\n",
       "        0.74578867],\n",
       "       [0.25334475, 0.73953449, 0.81338885, 0.34418887, 0.93494411,\n",
       "        0.00339269],\n",
       "       [0.10557246, 0.66523638, 0.85721866, 0.27070672, 0.27397452,\n",
       "        0.38063724],\n",
       "       [0.80014948, 0.23657628, 0.55958675, 0.01928315, 0.89164839,\n",
       "        0.90855343]])"
      ]
     },
     "execution_count": 77,
     "metadata": {},
     "output_type": "execute_result"
    }
   ],
   "source": [
    "X = np.random.rand(6,6) #all members between o and 1, chosen randomly\n",
    "X"
   ]
  },
  {
   "cell_type": "code",
   "execution_count": 78,
   "metadata": {},
   "outputs": [
    {
     "data": {
      "text/plain": [
       "array([0.24449592, 0.31759647, 0.29222109, 0.08184176, 0.84805796,\n",
       "       0.33201808])"
      ]
     },
     "execution_count": 78,
     "metadata": {},
     "output_type": "execute_result"
    }
   ],
   "source": [
    "X[1]"
   ]
  },
  {
   "cell_type": "code",
   "execution_count": 79,
   "metadata": {},
   "outputs": [
    {
     "data": {
      "text/plain": [
       "0.5372463816907602"
      ]
     },
     "execution_count": 79,
     "metadata": {},
     "output_type": "execute_result"
    }
   ],
   "source": [
    "X[2,3]"
   ]
  },
  {
   "cell_type": "code",
   "execution_count": 80,
   "metadata": {},
   "outputs": [
    {
     "data": {
      "text/plain": [
       "array([[0.65438657, 0.11200693, 0.2637765 , 0.53724638, 0.31968629,\n",
       "        0.74578867],\n",
       "       [0.25334475, 0.73953449, 0.81338885, 0.34418887, 0.93494411,\n",
       "        0.00339269],\n",
       "       [0.10557246, 0.66523638, 0.85721866, 0.27070672, 0.27397452,\n",
       "        0.38063724],\n",
       "       [0.80014948, 0.23657628, 0.55958675, 0.01928315, 0.89164839,\n",
       "        0.90855343]])"
      ]
     },
     "execution_count": 80,
     "metadata": {},
     "output_type": "execute_result"
    }
   ],
   "source": [
    "X[2:]"
   ]
  },
  {
   "cell_type": "code",
   "execution_count": 81,
   "metadata": {},
   "outputs": [
    {
     "data": {
      "text/plain": [
       "array([0.99146756, 0.29222109, 0.2637765 , 0.81338885, 0.85721866,\n",
       "       0.55958675])"
      ]
     },
     "execution_count": 81,
     "metadata": {},
     "output_type": "execute_result"
    }
   ],
   "source": [
    "X[:,2]"
   ]
  },
  {
   "cell_type": "code",
   "execution_count": 82,
   "metadata": {},
   "outputs": [
    {
     "data": {
      "text/plain": [
       "array([0.79341273, 0.08184176, 0.53724638, 0.34418887, 0.27070672,\n",
       "       0.01928315])"
      ]
     },
     "execution_count": 82,
     "metadata": {},
     "output_type": "execute_result"
    }
   ],
   "source": [
    "X[:,3]"
   ]
  },
  {
   "cell_type": "code",
   "execution_count": 83,
   "metadata": {},
   "outputs": [
    {
     "data": {
      "text/plain": [
       "array([[0.08184176]])"
      ]
     },
     "execution_count": 83,
     "metadata": {},
     "output_type": "execute_result"
    }
   ],
   "source": [
    "X[1:2,3:4]"
   ]
  },
  {
   "cell_type": "code",
   "execution_count": 84,
   "metadata": {},
   "outputs": [
    {
     "name": "stdout",
     "output_type": "stream",
     "text": [
      "0.7698897919457042\n",
      "0.31759646630618676\n",
      "0.263776503041674\n",
      "0.3441888746693752\n"
     ]
    }
   ],
   "source": [
    "for i in range(4):\n",
    "    for j in range(4):\n",
    "        if i== j:\n",
    "            print(X[i,j])"
   ]
  },
  {
   "cell_type": "code",
   "execution_count": 85,
   "metadata": {},
   "outputs": [
    {
     "data": {
      "text/plain": [
       "array([0.76988979, 0.31759647, 0.2637765 , 0.34418887, 0.27397452,\n",
       "       0.90855343])"
      ]
     },
     "execution_count": 85,
     "metadata": {},
     "output_type": "execute_result"
    }
   ],
   "source": [
    "np.diag(X)"
   ]
  },
  {
   "cell_type": "markdown",
   "metadata": {},
   "source": [
    "# Visualization of an array"
   ]
  },
  {
   "cell_type": "code",
   "execution_count": 86,
   "metadata": {},
   "outputs": [],
   "source": [
    "import matplotlib.pyplot as plt\n",
    "import seaborn as sns\n",
    "sns.set()"
   ]
  },
  {
   "cell_type": "code",
   "execution_count": 87,
   "metadata": {},
   "outputs": [],
   "source": [
    "X = np.random.rand(10,10)"
   ]
  },
  {
   "cell_type": "code",
   "execution_count": 88,
   "metadata": {},
   "outputs": [
    {
     "data": {
      "text/plain": [
       "<matplotlib.axes._subplots.AxesSubplot at 0x2a5a418a790>"
      ]
     },
     "execution_count": 88,
     "metadata": {},
     "output_type": "execute_result"
    },
    {
     "data": {
      "image/png": "[encoded data removed]",
      "text/plain": [
       "<Figure size 720x576 with 2 Axes>"
      ]
     },
     "metadata": {},
     "output_type": "display_data"
    }
   ],
   "source": [
    "plt.figure(figsize = [10,8])\n",
    "sns.heatmap(X, annot = True, cmap = \"YlGnBu\")"
   ]
  },
  {
   "cell_type": "code",
   "execution_count": 89,
   "metadata": {},
   "outputs": [
    {
     "data": {
      "text/plain": [
       "<matplotlib.axes._subplots.AxesSubplot at 0x2a5a5173190>"
      ]
     },
     "execution_count": 89,
     "metadata": {},
     "output_type": "execute_result"
    },
    {
     "data": {
      "image/png": "[encoded data removed]",
      "text/plain": [
       "<Figure size 432x288 with 2 Axes>"
      ]
     },
     "metadata": {},
     "output_type": "display_data"
    }
   ],
   "source": [
    "sns.heatmap(X, annot = False, cmap = \"YlGnBu\")"
   ]
  },
  {
   "cell_type": "markdown",
   "metadata": {},
   "source": [
    "# Subarray:"
   ]
  },
  {
   "cell_type": "markdown",
   "metadata": {},
   "source": [
    "Splitting to 4 subarrays"
   ]
  },
  {
   "cell_type": "code",
   "execution_count": 90,
   "metadata": {},
   "outputs": [
    {
     "data": {
      "image/png": "[encoded data removed]",
      "text/plain": [
       "<Figure size 936x648 with 8 Axes>"
      ]
     },
     "metadata": {},
     "output_type": "display_data"
    }
   ],
   "source": [
    "plt.figure(figsize = [13,9])\n",
    "\n",
    "plt.subplot(2,2,1)\n",
    "sns.heatmap(X[0:5,0:5], annot = True)\n",
    "\n",
    "plt.subplot(2,2,2)\n",
    "sns.heatmap(X[0:5,5:10], annot = True)\n",
    "\n",
    "plt.subplot(2,2,3)\n",
    "sns.heatmap(X[5:10,0:5], annot = True)\n",
    "\n",
    "plt.subplot(2,2,4)\n",
    "sns.heatmap(X[5:10,5:10], annot = True)\n",
    "\n",
    "plt.show()"
   ]
  },
  {
   "cell_type": "markdown",
   "metadata": {},
   "source": [
    "# Shape :"
   ]
  },
  {
   "cell_type": "markdown",
   "metadata": {},
   "source": [
    "Change shape of array from [10 by 10] to [20 by 5]"
   ]
  },
  {
   "cell_type": "markdown",
   "metadata": {},
   "source": [
    "### Find Array shape"
   ]
  },
  {
   "cell_type": "code",
   "execution_count": 91,
   "metadata": {},
   "outputs": [
    {
     "data": {
      "text/plain": [
       "(10, 10)"
      ]
     },
     "execution_count": 91,
     "metadata": {},
     "output_type": "execute_result"
    }
   ],
   "source": [
    "X.shape"
   ]
  },
  {
   "cell_type": "markdown",
   "metadata": {},
   "source": [
    "### Modify shape"
   ]
  },
  {
   "cell_type": "code",
   "execution_count": 92,
   "metadata": {},
   "outputs": [
    {
     "data": {
      "text/plain": [
       "array([[0.19802457, 0.62637369, 0.39173441, 0.48183714, 0.04709602],\n",
       "       [0.26119604, 0.58686233, 0.39843653, 0.51516879, 0.95878603],\n",
       "       [0.10891097, 0.14404282, 0.40121958, 0.57030739, 0.1952657 ],\n",
       "       [0.67344967, 0.69470265, 0.33002222, 0.28550988, 0.96926645],\n",
       "       [0.39497694, 0.28057748, 0.22372597, 0.09870976, 0.18694344],\n",
       "       [0.85206468, 0.04910253, 0.94331601, 0.16864368, 0.53532881],\n",
       "       [0.01613795, 0.75693327, 0.44035202, 0.20346233, 0.26685567],\n",
       "       [0.82438318, 0.40784579, 0.10764407, 0.808466  , 0.78337414],\n",
       "       [0.52219158, 0.55850844, 0.24054837, 0.18083374, 0.29180003],\n",
       "       [0.31227024, 0.39646713, 0.84645341, 0.39870161, 0.16731618],\n",
       "       [0.84736872, 0.17628913, 0.46272182, 0.04483503, 0.61335977],\n",
       "       [0.72605489, 0.40429197, 0.44620695, 0.33256845, 0.57249638],\n",
       "       [0.85345297, 0.6756748 , 0.01662164, 0.19212189, 0.30705731],\n",
       "       [0.36854357, 0.97696831, 0.22364125, 0.72414821, 0.02610412],\n",
       "       [0.42667146, 0.10819434, 0.32776024, 0.71899507, 0.58354553],\n",
       "       [0.58145234, 0.305798  , 0.13948384, 0.18299329, 0.53729083],\n",
       "       [0.27707204, 0.44002718, 0.11783999, 0.08863571, 0.50407398],\n",
       "       [0.46404042, 0.94962857, 0.60092305, 0.73137195, 0.85569554],\n",
       "       [0.8837927 , 0.54362155, 0.09092987, 0.74099217, 0.39686874],\n",
       "       [0.94167273, 0.81608816, 0.23448662, 0.15858383, 0.44973992]])"
      ]
     },
     "execution_count": 92,
     "metadata": {},
     "output_type": "execute_result"
    }
   ],
   "source": [
    "X.shape = (20,5)\n",
    "X"
   ]
  },
  {
   "cell_type": "markdown",
   "metadata": {},
   "source": [
    "# Reshaping the Array"
   ]
  },
  {
   "cell_type": "code",
   "execution_count": 93,
   "metadata": {},
   "outputs": [
    {
     "data": {
      "text/plain": [
       "(18,\n",
       " array([ 0,  2,  4,  6,  8, 10, 12, 14, 16, 18, 20, 22, 24, 26, 28, 30, 32,\n",
       "        34]))"
      ]
     },
     "execution_count": 93,
     "metadata": {},
     "output_type": "execute_result"
    }
   ],
   "source": [
    "X = np.arange(0,35,2) #start, end, incriment\n",
    "len(X), X"
   ]
  },
  {
   "cell_type": "code",
   "execution_count": 94,
   "metadata": {},
   "outputs": [
    {
     "data": {
      "text/plain": [
       "(35,\n",
       " array([ 0,  1,  2,  3,  4,  5,  6,  7,  8,  9, 10, 11, 12, 13, 14, 15, 16,\n",
       "        17, 18, 19, 20, 21, 22, 23, 24, 25, 26, 27, 28, 29, 30, 31, 32, 33,\n",
       "        34]))"
      ]
     },
     "execution_count": 94,
     "metadata": {},
     "output_type": "execute_result"
    }
   ],
   "source": [
    "X = np.arange(0,35,1) #start, end, incriment\n",
    "len(X) , X\n"
   ]
  },
  {
   "cell_type": "code",
   "execution_count": 95,
   "metadata": {},
   "outputs": [
    {
     "data": {
      "text/plain": [
       "array([ 0.        ,  2.05882353,  4.11764706,  6.17647059,  8.23529412,\n",
       "       10.29411765, 12.35294118, 14.41176471, 16.47058824, 18.52941176,\n",
       "       20.58823529, 22.64705882, 24.70588235, 26.76470588, 28.82352941,\n",
       "       30.88235294, 32.94117647, 35.        ])"
      ]
     },
     "execution_count": 95,
     "metadata": {},
     "output_type": "execute_result"
    }
   ],
   "source": [
    "Y = np.linspace(0,35,18) #start, end, steos\n",
    "Y"
   ]
  },
  {
   "cell_type": "code",
   "execution_count": 96,
   "metadata": {},
   "outputs": [],
   "source": [
    "XX = np.reshape(X, (7,5))"
   ]
  },
  {
   "cell_type": "code",
   "execution_count": 97,
   "metadata": {},
   "outputs": [
    {
     "data": {
      "text/plain": [
       "array([[ 0,  1,  2,  3,  4],\n",
       "       [ 5,  6,  7,  8,  9],\n",
       "       [10, 11, 12, 13, 14],\n",
       "       [15, 16, 17, 18, 19],\n",
       "       [20, 21, 22, 23, 24],\n",
       "       [25, 26, 27, 28, 29],\n",
       "       [30, 31, 32, 33, 34]])"
      ]
     },
     "execution_count": 97,
     "metadata": {},
     "output_type": "execute_result"
    }
   ],
   "source": [
    "XX"
   ]
  },
  {
   "cell_type": "code",
   "execution_count": 98,
   "metadata": {},
   "outputs": [
    {
     "data": {
      "text/plain": [
       "array([ 0,  1,  2,  3,  4,  5,  6,  7,  8,  9, 10, 11, 12, 13, 14, 15, 16,\n",
       "       17, 18, 19, 20, 21, 22, 23, 24, 25, 26, 27, 28, 29, 30, 31, 32, 33,\n",
       "       34, 35, 36, 37, 38, 39])"
      ]
     },
     "execution_count": 98,
     "metadata": {},
     "output_type": "execute_result"
    }
   ],
   "source": [
    "X = np.arange(40).reshape(8,5)\n",
    "X\n",
    "X.flatten()"
   ]
  },
  {
   "cell_type": "markdown",
   "metadata": {},
   "source": [
    "# Flatten the Array"
   ]
  },
  {
   "cell_type": "code",
   "execution_count": 99,
   "metadata": {},
   "outputs": [
    {
     "data": {
      "text/plain": [
       "(20,)"
      ]
     },
     "execution_count": 99,
     "metadata": {},
     "output_type": "execute_result"
    }
   ],
   "source": [
    "X = np.random.rand(4,5)\n",
    "Y = X.flatten()\n",
    "Y.shape"
   ]
  },
  {
   "cell_type": "code",
   "execution_count": 100,
   "metadata": {},
   "outputs": [
    {
     "data": {
      "text/plain": [
       "array([[0.90453971, 0.79744367, 0.753222  , 0.40369503, 0.69596314],\n",
       "       [0.43485853, 0.04536417, 0.16593714, 0.622786  , 0.7416157 ],\n",
       "       [0.69703034, 0.34866655, 0.61142795, 0.39370759, 0.64815569],\n",
       "       [0.9363139 , 0.97335372, 0.57568617, 0.8290534 , 0.45510947]])"
      ]
     },
     "execution_count": 100,
     "metadata": {},
     "output_type": "execute_result"
    }
   ],
   "source": [
    "X"
   ]
  },
  {
   "cell_type": "code",
   "execution_count": 101,
   "metadata": {},
   "outputs": [
    {
     "data": {
      "text/plain": [
       "numpy.ndarray"
      ]
     },
     "execution_count": 101,
     "metadata": {},
     "output_type": "execute_result"
    }
   ],
   "source": [
    "type(X)"
   ]
  },
  {
   "cell_type": "code",
   "execution_count": 102,
   "metadata": {},
   "outputs": [
    {
     "data": {
      "text/plain": [
       "array([0.90453971, 0.79744367, 0.753222  , 0.40369503, 0.69596314,\n",
       "       0.43485853, 0.04536417, 0.16593714, 0.622786  , 0.7416157 ,\n",
       "       0.69703034, 0.34866655, 0.61142795, 0.39370759, 0.64815569,\n",
       "       0.9363139 , 0.97335372, 0.57568617, 0.8290534 , 0.45510947])"
      ]
     },
     "execution_count": 102,
     "metadata": {},
     "output_type": "execute_result"
    }
   ],
   "source": [
    "Y = X.flatten()\n",
    "Y"
   ]
  },
  {
   "cell_type": "code",
   "execution_count": 103,
   "metadata": {},
   "outputs": [
    {
     "data": {
      "text/plain": [
       "array([0.90453971, 0.79744367, 0.753222  , 0.40369503, 0.69596314,\n",
       "       0.43485853, 0.04536417, 0.16593714, 0.622786  , 0.7416157 ,\n",
       "       0.69703034, 0.34866655, 0.61142795, 0.39370759, 0.64815569,\n",
       "       0.9363139 , 0.97335372, 0.57568617, 0.8290534 , 0.45510947])"
      ]
     },
     "execution_count": 103,
     "metadata": {},
     "output_type": "execute_result"
    }
   ],
   "source": [
    "Y"
   ]
  },
  {
   "cell_type": "markdown",
   "metadata": {},
   "source": [
    "# Concatenate the Array"
   ]
  },
  {
   "cell_type": "code",
   "execution_count": 104,
   "metadata": {},
   "outputs": [
    {
     "data": {
      "text/plain": [
       "(array([[3, 4],\n",
       "        [5, 6]]),\n",
       " array([[ 7,  8],\n",
       "        [ 9, 10]]))"
      ]
     },
     "execution_count": 104,
     "metadata": {},
     "output_type": "execute_result"
    }
   ],
   "source": [
    "T = np.array([[3,4],[5,6]])\n",
    "R = np.array([[7,8],[9,10]])\n",
    "T, R"
   ]
  },
  {
   "cell_type": "code",
   "execution_count": 105,
   "metadata": {},
   "outputs": [
    {
     "data": {
      "text/plain": [
       "array([[ 3,  4],\n",
       "       [ 5,  6],\n",
       "       [ 7,  8],\n",
       "       [ 9, 10]])"
      ]
     },
     "execution_count": 105,
     "metadata": {},
     "output_type": "execute_result"
    }
   ],
   "source": [
    "L = np.concatenate((T,R),axis = 0)\n",
    "L"
   ]
  },
  {
   "cell_type": "code",
   "execution_count": 106,
   "metadata": {},
   "outputs": [
    {
     "data": {
      "text/plain": [
       "array([[ 3,  4,  7,  8],\n",
       "       [ 5,  6,  9, 10]])"
      ]
     },
     "execution_count": 106,
     "metadata": {},
     "output_type": "execute_result"
    }
   ],
   "source": [
    "K = np.concatenate((T,R), axis = 1)\n",
    "K"
   ]
  },
  {
   "cell_type": "code",
   "execution_count": 107,
   "metadata": {},
   "outputs": [
    {
     "data": {
      "text/plain": [
       "(array([[0.08211946, 0.2312374 , 0.91839487, 0.13255284, 0.15528265,\n",
       "         0.63162479],\n",
       "        [0.11541572, 0.89051567, 0.91154152, 0.71145558, 0.94386599,\n",
       "         0.03735069],\n",
       "        [0.66724816, 0.43308185, 0.36877267, 0.32387644, 0.29095909,\n",
       "         0.96867742],\n",
       "        [0.86982972, 0.78521518, 0.69987372, 0.868093  , 0.40542808,\n",
       "         0.7896223 ],\n",
       "        [0.19410012, 0.69438252, 0.96099882, 0.6877161 , 0.28302449,\n",
       "         0.10045281]]),\n",
       " array([[0.29812787, 0.98742194, 0.56669821, 0.98946052, 0.73123636,\n",
       "         0.62343799],\n",
       "        [0.08718553, 0.84207192, 0.9098235 , 0.20153351, 0.48877929,\n",
       "         0.83884877],\n",
       "        [0.64495011, 0.38267441, 0.48923878, 0.9997882 , 0.74590311,\n",
       "         0.03538599],\n",
       "        [0.77124226, 0.33988257, 0.29647255, 0.87085298, 0.18594246,\n",
       "         0.12551395],\n",
       "        [0.76235268, 0.23279026, 0.5419374 , 0.22258346, 0.0257501 ,\n",
       "         0.70061977]]))"
      ]
     },
     "execution_count": 107,
     "metadata": {},
     "output_type": "execute_result"
    }
   ],
   "source": [
    "A = np.random.rand(5,6)\n",
    "B = np.random.rand(5,6)\n",
    "A, B"
   ]
  },
  {
   "cell_type": "markdown",
   "metadata": {},
   "source": [
    "# Verticle Addition"
   ]
  },
  {
   "cell_type": "code",
   "execution_count": 108,
   "metadata": {},
   "outputs": [],
   "source": [
    "C = np.concatenate((A,B), axis = 0)"
   ]
  },
  {
   "cell_type": "code",
   "execution_count": 109,
   "metadata": {},
   "outputs": [
    {
     "data": {
      "text/plain": [
       "array([[0.08211946, 0.2312374 , 0.91839487, 0.13255284, 0.15528265,\n",
       "        0.63162479],\n",
       "       [0.11541572, 0.89051567, 0.91154152, 0.71145558, 0.94386599,\n",
       "        0.03735069],\n",
       "       [0.66724816, 0.43308185, 0.36877267, 0.32387644, 0.29095909,\n",
       "        0.96867742],\n",
       "       [0.86982972, 0.78521518, 0.69987372, 0.868093  , 0.40542808,\n",
       "        0.7896223 ],\n",
       "       [0.19410012, 0.69438252, 0.96099882, 0.6877161 , 0.28302449,\n",
       "        0.10045281],\n",
       "       [0.29812787, 0.98742194, 0.56669821, 0.98946052, 0.73123636,\n",
       "        0.62343799],\n",
       "       [0.08718553, 0.84207192, 0.9098235 , 0.20153351, 0.48877929,\n",
       "        0.83884877],\n",
       "       [0.64495011, 0.38267441, 0.48923878, 0.9997882 , 0.74590311,\n",
       "        0.03538599],\n",
       "       [0.77124226, 0.33988257, 0.29647255, 0.87085298, 0.18594246,\n",
       "        0.12551395],\n",
       "       [0.76235268, 0.23279026, 0.5419374 , 0.22258346, 0.0257501 ,\n",
       "        0.70061977]])"
      ]
     },
     "execution_count": 109,
     "metadata": {},
     "output_type": "execute_result"
    }
   ],
   "source": [
    "C"
   ]
  },
  {
   "cell_type": "code",
   "execution_count": 110,
   "metadata": {},
   "outputs": [],
   "source": [
    "D = np.concatenate((A,B),axis = 1)"
   ]
  },
  {
   "cell_type": "code",
   "execution_count": 111,
   "metadata": {},
   "outputs": [
    {
     "data": {
      "text/plain": [
       "array([[0.08211946, 0.2312374 , 0.91839487, 0.13255284, 0.15528265,\n",
       "        0.63162479, 0.29812787, 0.98742194, 0.56669821, 0.98946052,\n",
       "        0.73123636, 0.62343799],\n",
       "       [0.11541572, 0.89051567, 0.91154152, 0.71145558, 0.94386599,\n",
       "        0.03735069, 0.08718553, 0.84207192, 0.9098235 , 0.20153351,\n",
       "        0.48877929, 0.83884877],\n",
       "       [0.66724816, 0.43308185, 0.36877267, 0.32387644, 0.29095909,\n",
       "        0.96867742, 0.64495011, 0.38267441, 0.48923878, 0.9997882 ,\n",
       "        0.74590311, 0.03538599],\n",
       "       [0.86982972, 0.78521518, 0.69987372, 0.868093  , 0.40542808,\n",
       "        0.7896223 , 0.77124226, 0.33988257, 0.29647255, 0.87085298,\n",
       "        0.18594246, 0.12551395],\n",
       "       [0.19410012, 0.69438252, 0.96099882, 0.6877161 , 0.28302449,\n",
       "        0.10045281, 0.76235268, 0.23279026, 0.5419374 , 0.22258346,\n",
       "        0.0257501 , 0.70061977]])"
      ]
     },
     "execution_count": 111,
     "metadata": {},
     "output_type": "execute_result"
    }
   ],
   "source": [
    "D"
   ]
  },
  {
   "cell_type": "markdown",
   "metadata": {},
   "source": [
    "# Row sum and Column sum"
   ]
  },
  {
   "cell_type": "code",
   "execution_count": 112,
   "metadata": {},
   "outputs": [],
   "source": [
    "X = np.random.rand(9,7)"
   ]
  },
  {
   "cell_type": "code",
   "execution_count": 113,
   "metadata": {},
   "outputs": [
    {
     "data": {
      "text/plain": [
       "30.148436211795385"
      ]
     },
     "execution_count": 113,
     "metadata": {},
     "output_type": "execute_result"
    }
   ],
   "source": [
    "X.sum()"
   ]
  },
  {
   "cell_type": "markdown",
   "metadata": {},
   "source": [
    "# Row sum"
   ]
  },
  {
   "cell_type": "code",
   "execution_count": 114,
   "metadata": {},
   "outputs": [
    {
     "data": {
      "text/plain": [
       "array([4.44377956, 3.82685768, 4.1100314 , 4.98149667, 3.70122617,\n",
       "       4.00233613, 5.08270861])"
      ]
     },
     "execution_count": 114,
     "metadata": {},
     "output_type": "execute_result"
    }
   ],
   "source": [
    "np.sum(X,axis = 0)"
   ]
  },
  {
   "cell_type": "code",
   "execution_count": 115,
   "metadata": {},
   "outputs": [],
   "source": [
    "T = np.array([[3,4],[5,6]])\n",
    "R = np.array([[7,8],[9,10]])\n"
   ]
  },
  {
   "cell_type": "code",
   "execution_count": 116,
   "metadata": {},
   "outputs": [
    {
     "data": {
      "text/plain": [
       "(18, 34)"
      ]
     },
     "execution_count": 116,
     "metadata": {},
     "output_type": "execute_result"
    }
   ],
   "source": [
    "np.sum(T),np.sum(R)"
   ]
  },
  {
   "cell_type": "code",
   "execution_count": 117,
   "metadata": {},
   "outputs": [
    {
     "data": {
      "text/plain": [
       "array([ 7, 11])"
      ]
     },
     "execution_count": 117,
     "metadata": {},
     "output_type": "execute_result"
    }
   ],
   "source": [
    "np.sum(T, axis = 1) #addition of row"
   ]
  },
  {
   "cell_type": "code",
   "execution_count": 118,
   "metadata": {},
   "outputs": [
    {
     "data": {
      "text/plain": [
       "array([ 8, 10])"
      ]
     },
     "execution_count": 118,
     "metadata": {},
     "output_type": "execute_result"
    }
   ],
   "source": [
    "np.sum(T, axis = 0)"
   ]
  },
  {
   "cell_type": "markdown",
   "metadata": {},
   "source": [
    "# Column sum"
   ]
  },
  {
   "cell_type": "code",
   "execution_count": 119,
   "metadata": {},
   "outputs": [
    {
     "data": {
      "text/plain": [
       "array([3.90611902, 2.76139844, 3.36292797, 3.25588916, 2.82047448,\n",
       "       3.69658957, 2.57577763, 3.53076222, 4.23849773])"
      ]
     },
     "execution_count": 119,
     "metadata": {},
     "output_type": "execute_result"
    }
   ],
   "source": [
    "np.sum(X, axis = 1)"
   ]
  }
 ],
 "metadata": {
  "kernelspec": {
   "display_name": "Python 3",
   "language": "python",
   "name": "python3"
  },
  "language_info": {
   "codemirror_mode": {
    "name": "ipython",
    "version": 3
   },
   "file_extension": ".py",
   "mimetype": "text/x-python",
   "name": "python",
   "nbconvert_exporter": "python",
   "pygments_lexer": "ipython3",
   "version": "3.8.3"
  }
 },
 "nbformat": 4,
 "nbformat_minor": 4
}
